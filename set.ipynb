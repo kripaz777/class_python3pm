{
 "cells": [
  {
   "cell_type": "code",
   "execution_count": 1,
   "id": "35554276",
   "metadata": {},
   "outputs": [],
   "source": [
    "# Set\n",
    "# -No Indexing\n",
    "# -Unordered\n",
    "# -Multiple and but no duplicate data\n",
    "# -Mutable"
   ]
  },
  {
   "cell_type": "code",
   "execution_count": 2,
   "id": "1dc2e949",
   "metadata": {},
   "outputs": [],
   "source": [
    "s = set()"
   ]
  },
  {
   "cell_type": "code",
   "execution_count": 3,
   "id": "ed8e9554",
   "metadata": {},
   "outputs": [
    {
     "name": "stdout",
     "output_type": "stream",
     "text": [
      "<class 'set'>\n"
     ]
    }
   ],
   "source": [
    "s = {1,2,3,4,5,6,7,8,9}\n",
    "s = {\"Apple\",\"Ball\",'Cat',\"Dog\"}\n",
    "print(type(s))"
   ]
  },
  {
   "cell_type": "code",
   "execution_count": 4,
   "id": "be48c809",
   "metadata": {},
   "outputs": [
    {
     "ename": "TypeError",
     "evalue": "'set' object is not subscriptable",
     "output_type": "error",
     "traceback": [
      "\u001b[1;31m---------------------------------------------------------------------------\u001b[0m",
      "\u001b[1;31mTypeError\u001b[0m                                 Traceback (most recent call last)",
      "Input \u001b[1;32mIn [4]\u001b[0m, in \u001b[0;36m<cell line: 2>\u001b[1;34m()\u001b[0m\n\u001b[0;32m      1\u001b[0m s \u001b[38;5;241m=\u001b[39m {\u001b[38;5;124m\"\u001b[39m\u001b[38;5;124mApple\u001b[39m\u001b[38;5;124m\"\u001b[39m,\u001b[38;5;124m\"\u001b[39m\u001b[38;5;124mBall\u001b[39m\u001b[38;5;124m\"\u001b[39m,\u001b[38;5;124m'\u001b[39m\u001b[38;5;124mCat\u001b[39m\u001b[38;5;124m'\u001b[39m,\u001b[38;5;124m\"\u001b[39m\u001b[38;5;124mDog\u001b[39m\u001b[38;5;124m\"\u001b[39m}\n\u001b[1;32m----> 2\u001b[0m \u001b[38;5;28mprint\u001b[39m(\u001b[43ms\u001b[49m\u001b[43m[\u001b[49m\u001b[38;5;241;43m0\u001b[39;49m\u001b[43m]\u001b[49m)\n",
      "\u001b[1;31mTypeError\u001b[0m: 'set' object is not subscriptable"
     ]
    }
   ],
   "source": [
    "s = {\"Apple\",\"Ball\",'Cat',\"Dog\"}\n",
    "print(s[0])"
   ]
  },
  {
   "cell_type": "code",
   "execution_count": 5,
   "id": "c9ab0a80",
   "metadata": {},
   "outputs": [
    {
     "name": "stdout",
     "output_type": "stream",
     "text": [
      "{'Cat', 'Apple', 'Ball', 'Dog'}\n"
     ]
    }
   ],
   "source": [
    "s = {\"Apple\",\"Ball\",'Cat',\"Dog\"}\n",
    "print(s)"
   ]
  },
  {
   "cell_type": "code",
   "execution_count": 7,
   "id": "b59618f1",
   "metadata": {},
   "outputs": [
    {
     "name": "stdout",
     "output_type": "stream",
     "text": [
      "{'Cat', 'Apple', 'Ball', 'Dog'}\n"
     ]
    }
   ],
   "source": [
    "s = {\"Apple\",\"Ball\",'Cat',\"Dog\",\"Apple\",\"Ball\"}\n",
    "print(s)"
   ]
  },
  {
   "cell_type": "code",
   "execution_count": 8,
   "id": "64e78a74",
   "metadata": {},
   "outputs": [
    {
     "name": "stdout",
     "output_type": "stream",
     "text": [
      "{'Apple', 'Ball'}\n"
     ]
    }
   ],
   "source": [
    "# add()\n",
    "s = set()\n",
    "s.add(\"Apple\")\n",
    "s.add(\"Ball\")\n",
    "print(s)"
   ]
  },
  {
   "cell_type": "code",
   "execution_count": 1,
   "id": "0716d0ad",
   "metadata": {},
   "outputs": [
    {
     "name": "stdout",
     "output_type": "stream",
     "text": [
      "Cat\n",
      "Dog\n",
      "Apple\n",
      "Ball\n"
     ]
    }
   ],
   "source": [
    "s = {'Apple', 'Ball','Cat', 'Dog'}\n",
    "for i in s:\n",
    "    print(i)"
   ]
  },
  {
   "cell_type": "code",
   "execution_count": 2,
   "id": "b9636777",
   "metadata": {},
   "outputs": [
    {
     "name": "stdout",
     "output_type": "stream",
     "text": [
      "{'Cat', 'Dog', 'Ball'}\n"
     ]
    }
   ],
   "source": [
    "s = {'Apple', 'Ball','Cat', 'Dog'}\n",
    "s.remove(\"Apple\")\n",
    "print(s)"
   ]
  },
  {
   "cell_type": "code",
   "execution_count": 3,
   "id": "f028377b",
   "metadata": {},
   "outputs": [
    {
     "ename": "TypeError",
     "evalue": "unsupported operand type(s) for +: 'set' and 'set'",
     "output_type": "error",
     "traceback": [
      "\u001b[1;31m---------------------------------------------------------------------------\u001b[0m",
      "\u001b[1;31mTypeError\u001b[0m                                 Traceback (most recent call last)",
      "Input \u001b[1;32mIn [3]\u001b[0m, in \u001b[0;36m<cell line: 3>\u001b[1;34m()\u001b[0m\n\u001b[0;32m      1\u001b[0m a \u001b[38;5;241m=\u001b[39m {\u001b[38;5;241m1\u001b[39m,\u001b[38;5;241m2\u001b[39m,\u001b[38;5;241m3\u001b[39m}\n\u001b[0;32m      2\u001b[0m b \u001b[38;5;241m=\u001b[39m {\u001b[38;5;241m4\u001b[39m,\u001b[38;5;241m5\u001b[39m,\u001b[38;5;241m6\u001b[39m}\n\u001b[1;32m----> 3\u001b[0m c \u001b[38;5;241m=\u001b[39m \u001b[43ma\u001b[49m\u001b[38;5;241;43m+\u001b[39;49m\u001b[43mb\u001b[49m\n\u001b[0;32m      4\u001b[0m \u001b[38;5;28mprint\u001b[39m(c)\n",
      "\u001b[1;31mTypeError\u001b[0m: unsupported operand type(s) for +: 'set' and 'set'"
     ]
    }
   ],
   "source": [
    "a = {1,2,3}\n",
    "b = {4,5,6}\n",
    "c = a+b\n",
    "print(c)"
   ]
  },
  {
   "cell_type": "code",
   "execution_count": 4,
   "id": "1cf3f5ee",
   "metadata": {},
   "outputs": [
    {
     "name": "stdout",
     "output_type": "stream",
     "text": [
      "{1, 2, 3, 4, 5, 6}\n"
     ]
    }
   ],
   "source": [
    "a = {1,2,3}\n",
    "b = {4,5,6}\n",
    "a.update(b)\n",
    "print(a)"
   ]
  },
  {
   "cell_type": "code",
   "execution_count": 5,
   "id": "92af9632",
   "metadata": {},
   "outputs": [],
   "source": [
    "# no list inside set\n",
    "# no dict inside set\n",
    "# no set inside set"
   ]
  },
  {
   "cell_type": "code",
   "execution_count": 11,
   "id": "aa0b6d87",
   "metadata": {},
   "outputs": [
    {
     "data": {
      "text/plain": [
       "{('Apple',), ('Ball', 'Cat', 'Dog')}"
      ]
     },
     "execution_count": 11,
     "metadata": {},
     "output_type": "execute_result"
    }
   ],
   "source": [
    "s = {('Apple',), ('Ball','Cat', 'Dog')}\n",
    "s"
   ]
  },
  {
   "cell_type": "code",
   "execution_count": 13,
   "id": "c897afa0",
   "metadata": {},
   "outputs": [],
   "source": [
    "l = [{1,2,3},{4,5,6}]"
   ]
  },
  {
   "cell_type": "code",
   "execution_count": 14,
   "id": "8689df9a",
   "metadata": {},
   "outputs": [],
   "source": [
    "l = ({1,2,3},{4,5,6})"
   ]
  },
  {
   "cell_type": "code",
   "execution_count": 15,
   "id": "cef018af",
   "metadata": {},
   "outputs": [
    {
     "data": {
      "text/plain": [
       "{1: {'Ant', 'Apple'}, 2: {'Ball', 'Banana'}}"
      ]
     },
     "execution_count": 15,
     "metadata": {},
     "output_type": "execute_result"
    }
   ],
   "source": [
    "d = {1:{\"Apple\",\"Ant\"},\n",
    "    2:{\"Ball\",\"Banana\"}}\n",
    "d"
   ]
  },
  {
   "cell_type": "code",
   "execution_count": 16,
   "id": "68849ec1",
   "metadata": {},
   "outputs": [],
   "source": [
    "# set in math"
   ]
  },
  {
   "cell_type": "code",
   "execution_count": 23,
   "id": "1f073c5c",
   "metadata": {},
   "outputs": [
    {
     "name": "stdout",
     "output_type": "stream",
     "text": [
      "{'Shyam', 'Hari'}\n"
     ]
    }
   ],
   "source": [
    "U = {'xyz','abc','Sabin', 'Ram', 'Saroj', 'Shyam', 'Nikesh', 'Hari', 'Subhod', 'Bill', 'Mike', 'Jhon', 'Steave', 'Willium'}\n",
    "apple = {\"Jhon\",\"Steave\",\"Mike\",\"Ram\",\"Hari\",\"Shyam\",\"Nikesh\"}\n",
    "ms = {\"Bill\",\"Willium\",\"Sabin\",\"Saroj\",\"Subhod\",\"Shyam\",\"Hari\"}\n",
    "\n",
    "i = apple.intersection(ms)\n",
    "print(i)"
   ]
  },
  {
   "cell_type": "code",
   "execution_count": 18,
   "id": "ffcafd09",
   "metadata": {},
   "outputs": [
    {
     "name": "stdout",
     "output_type": "stream",
     "text": [
      "{'Sabin', 'Ram', 'Saroj', 'Shyam', 'Nikesh', 'Hari', 'Subhod', 'Bill', 'Mike', 'Jhon', 'Steave', 'Willium'}\n"
     ]
    }
   ],
   "source": [
    "un = ms.union(apple)\n",
    "print(un)"
   ]
  },
  {
   "cell_type": "code",
   "execution_count": 19,
   "id": "6ba7b77b",
   "metadata": {},
   "outputs": [
    {
     "name": "stdout",
     "output_type": "stream",
     "text": [
      "{'Ram', 'Nikesh', 'Mike', 'Jhon', 'Steave'}\n"
     ]
    }
   ],
   "source": [
    "df1 = apple - ms              #only at apple\n",
    "print(df1)"
   ]
  },
  {
   "cell_type": "code",
   "execution_count": 21,
   "id": "ffbd3161",
   "metadata": {},
   "outputs": [
    {
     "name": "stdout",
     "output_type": "stream",
     "text": [
      "{'Sabin', 'Saroj', 'Subhod', 'Bill', 'Willium'}\n"
     ]
    }
   ],
   "source": [
    "df2 = ms - apple              #only at ms\n",
    "print(df2)"
   ]
  },
  {
   "cell_type": "code",
   "execution_count": 24,
   "id": "48196a49",
   "metadata": {},
   "outputs": [
    {
     "name": "stdout",
     "output_type": "stream",
     "text": [
      "{'abc', 'xyz'}\n"
     ]
    }
   ],
   "source": [
    "unemp = U - un\n",
    "print(unemp)"
   ]
  },
  {
   "cell_type": "code",
   "execution_count": null,
   "id": "0f514d8a",
   "metadata": {},
   "outputs": [],
   "source": []
  }
 ],
 "metadata": {
  "kernelspec": {
   "display_name": "Python 3 (ipykernel)",
   "language": "python",
   "name": "python3"
  },
  "language_info": {
   "codemirror_mode": {
    "name": "ipython",
    "version": 3
   },
   "file_extension": ".py",
   "mimetype": "text/x-python",
   "name": "python",
   "nbconvert_exporter": "python",
   "pygments_lexer": "ipython3",
   "version": "3.9.12"
  }
 },
 "nbformat": 4,
 "nbformat_minor": 5
}
