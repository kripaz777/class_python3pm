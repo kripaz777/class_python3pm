{
 "cells": [
  {
   "cell_type": "code",
   "execution_count": 1,
   "id": "6211f9c4",
   "metadata": {},
   "outputs": [
    {
     "name": "stdout",
     "output_type": "stream",
     "text": [
      "Requirement already satisfied: mysql-connector in c:\\users\\aayush\\anaconda3\\lib\\site-packages (2.2.9)\n"
     ]
    },
    {
     "name": "stderr",
     "output_type": "stream",
     "text": [
      "WARNING: Ignoring invalid distribution -atplotlib (c:\\users\\aayush\\anaconda3\\lib\\site-packages)\n",
      "WARNING: Ignoring invalid distribution -illow (c:\\users\\aayush\\anaconda3\\lib\\site-packages)\n",
      "WARNING: Error parsing requirements for plotly: [Errno 2] No such file or directory: 'c:\\\\users\\\\aayush\\\\anaconda3\\\\lib\\\\site-packages\\\\plotly-5.14.1.dist-info\\\\METADATA'\n",
      "WARNING: Ignoring invalid distribution -atplotlib (c:\\users\\aayush\\anaconda3\\lib\\site-packages)\n",
      "WARNING: Ignoring invalid distribution -illow (c:\\users\\aayush\\anaconda3\\lib\\site-packages)\n"
     ]
    }
   ],
   "source": [
    "!pip install mysql-connector \n",
    "# !pip install mysql-connector-python"
   ]
  },
  {
   "cell_type": "code",
   "execution_count": 7,
   "id": "6e269ab6",
   "metadata": {},
   "outputs": [],
   "source": [
    "import mysql.connector  #importing database\n",
    "database = mysql.connector.connect(\n",
    "            host=\"localhost\",\n",
    "            user=\"root\",\n",
    "            password=\"\",\n",
    "            database = \"class_python_3pm\"\n",
    "            )\n",
    "db = database.cursor()"
   ]
  },
  {
   "cell_type": "code",
   "execution_count": 9,
   "id": "6f982248",
   "metadata": {},
   "outputs": [
    {
     "name": "stdout",
     "output_type": "stream",
     "text": [
      "[(1, 'Ram', 78, 89, 90, 67, 89, 412, 83.3, 'A'), (2, 'Hari', 78, 87, 89, 67, 67, 400, 82.5, 'A'), (3, 'Sita', 78, 89, 67, 87, 78, 420, 80.0, 'A')]\n"
     ]
    }
   ],
   "source": [
    "sql = \"SELECT * FROM student\"\n",
    "db.execute(sql)\n",
    "result = db.fetchall()\n",
    "print(result)"
   ]
  },
  {
   "cell_type": "code",
   "execution_count": 10,
   "id": "4072cecd",
   "metadata": {},
   "outputs": [
    {
     "name": "stdout",
     "output_type": "stream",
     "text": [
      "[(1, 'Ram', 412, 83.3, 'A'), (2, 'Hari', 400, 82.5, 'A'), (3, 'Sita', 420, 80.0, 'A')]\n"
     ]
    }
   ],
   "source": [
    "sql = \"SELECT sn,name,total,per,grade FROM student\"\n",
    "db.execute(sql)\n",
    "result = db.fetchall()\n",
    "print(result)"
   ]
  },
  {
   "cell_type": "code",
   "execution_count": 11,
   "id": "834c3610",
   "metadata": {},
   "outputs": [
    {
     "name": "stdout",
     "output_type": "stream",
     "text": [
      "[(1, 'Ram', 78, 89, 90, 67, 89, 412, 83.3, 'A'), (2, 'Hari', 78, 87, 89, 67, 67, 400, 82.5, 'A'), (3, 'Sita', 78, 89, 67, 87, 78, 420, 80.0, 'A')]\n"
     ]
    }
   ],
   "source": [
    "sql = \"SELECT * FROM student WHERE grade = 'A'\"\n",
    "db.execute(sql)\n",
    "result = db.fetchall()\n",
    "print(result)"
   ]
  },
  {
   "cell_type": "code",
   "execution_count": 13,
   "id": "572005aa",
   "metadata": {},
   "outputs": [],
   "source": [
    "# insert\n",
    "sql = '''INSERT INTO student (name, physics, chemistry, math, english, nepali, total, per, grade) \n",
    "                     VALUES ('Nita', 69, 80, 90, 88, 98, 470, 88, 'A');'''\n",
    "db.execute(sql)\n",
    "database.commit()"
   ]
  },
  {
   "cell_type": "code",
   "execution_count": 14,
   "id": "ed7b4753",
   "metadata": {},
   "outputs": [],
   "source": [
    "# WAP to create a result management system takeing data from user and store it in databse"
   ]
  },
  {
   "cell_type": "code",
   "execution_count": 15,
   "id": "1467f45c",
   "metadata": {},
   "outputs": [],
   "source": [
    "# Update"
   ]
  },
  {
   "cell_type": "code",
   "execution_count": 16,
   "id": "d382ee3f",
   "metadata": {},
   "outputs": [],
   "source": [
    "sql = \"UPDATE student SET name = 'Alisha' WHERE sn = 5\"\n",
    "db.execute(sql)\n",
    "database.commit()"
   ]
  },
  {
   "cell_type": "code",
   "execution_count": 17,
   "id": "93626f95",
   "metadata": {},
   "outputs": [],
   "source": [
    "# Delete\n",
    "sql = \"DELETE FROM student WHERE sn = 6\"\n",
    "db.execute(sql)\n",
    "database.commit()"
   ]
  },
  {
   "cell_type": "code",
   "execution_count": null,
   "id": "0842ba4d",
   "metadata": {},
   "outputs": [],
   "source": []
  }
 ],
 "metadata": {
  "kernelspec": {
   "display_name": "Python 3 (ipykernel)",
   "language": "python",
   "name": "python3"
  },
  "language_info": {
   "codemirror_mode": {
    "name": "ipython",
    "version": 3
   },
   "file_extension": ".py",
   "mimetype": "text/x-python",
   "name": "python",
   "nbconvert_exporter": "python",
   "pygments_lexer": "ipython3",
   "version": "3.9.12"
  }
 },
 "nbformat": 4,
 "nbformat_minor": 5
}
