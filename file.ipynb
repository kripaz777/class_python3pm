{
 "cells": [
  {
   "cell_type": "code",
   "execution_count": 1,
   "id": "8d5f9ab6",
   "metadata": {},
   "outputs": [],
   "source": [
    "# file = open('<file_name>','<mode>')\n",
    "# file.close()"
   ]
  },
  {
   "cell_type": "code",
   "execution_count": 2,
   "id": "191eccab",
   "metadata": {},
   "outputs": [],
   "source": [
    "# mode\n",
    "# read ->r\n",
    "# create ->x\n",
    "# write ->w\n",
    "# append ->a"
   ]
  },
  {
   "cell_type": "code",
   "execution_count": 3,
   "id": "12a17782",
   "metadata": {},
   "outputs": [],
   "source": [
    "file = open('data.txt','x')\n",
    "file.close()"
   ]
  },
  {
   "cell_type": "code",
   "execution_count": 4,
   "id": "cbe27a19",
   "metadata": {},
   "outputs": [
    {
     "name": "stdout",
     "output_type": "stream",
     "text": [
      "1. Hello World\n",
      "2. Hello World\n",
      "3. Hello World\n",
      "4. Hello World\n",
      "5. Hello World\n",
      "6. Hello World\n"
     ]
    }
   ],
   "source": [
    "file = open('data.txt','r')\n",
    "d = file.read()\n",
    "print(d)\n",
    "file.close()"
   ]
  },
  {
   "cell_type": "code",
   "execution_count": 5,
   "id": "92bdb1e4",
   "metadata": {},
   "outputs": [
    {
     "data": {
      "text/plain": [
       "['1. Hello World',\n",
       " '2. Hello World',\n",
       " '3. Hello World',\n",
       " '4. Hello World',\n",
       " '5. Hello World',\n",
       " '6. Hello World']"
      ]
     },
     "execution_count": 5,
     "metadata": {},
     "output_type": "execute_result"
    }
   ],
   "source": [
    "new_data = d.split('\\n')\n",
    "new_data"
   ]
  },
  {
   "cell_type": "code",
   "execution_count": 7,
   "id": "92ce0f47",
   "metadata": {},
   "outputs": [
    {
     "data": {
      "text/plain": [
       "'2. Hello World'"
      ]
     },
     "execution_count": 7,
     "metadata": {},
     "output_type": "execute_result"
    }
   ],
   "source": [
    "new_data[1]"
   ]
  },
  {
   "cell_type": "code",
   "execution_count": 8,
   "id": "9b4b47bc",
   "metadata": {},
   "outputs": [],
   "source": [
    "file = open('data1.txt','w')\n",
    "file.write('Hello World')\n",
    "file.close()"
   ]
  },
  {
   "cell_type": "code",
   "execution_count": 10,
   "id": "8e31c105",
   "metadata": {},
   "outputs": [
    {
     "name": "stdout",
     "output_type": "stream",
     "text": [
      "Enter n = 2\n",
      "Enter name = Shyam\n",
      "Enter price = 300\n",
      "Enter qty = 3\n",
      "Enter name = Coke\n",
      "Enter price = 100\n",
      "Enter qty = 3\n",
      "Shyam 300.0 3.0 900.0\n",
      "Coke 100.0 3.0 300.0\n",
      "\n",
      "1200.0\n"
     ]
    }
   ],
   "source": [
    "#writting on txt file\n",
    "bill = \"\"\n",
    "all_total = 0\n",
    "n = int(input(\"Enter n = \"))\n",
    "for i in range(n):\n",
    "    name = input(\"Enter name = \")\n",
    "    price = float(input(\"Enter price = \"))\n",
    "    qty = float(input(\"Enter qty = \"))\n",
    "    total = price * qty\n",
    "    bill = bill + f\"{name} {price} {qty} {total}\\n\"\n",
    "    all_total = all_total + total\n",
    "print(bill)\n",
    "print(all_total)\n",
    "\n",
    "file = open('bill.txt','a')\n",
    "file.write(bill)\n",
    "file.close()"
   ]
  },
  {
   "cell_type": "code",
   "execution_count": 13,
   "id": "a0e056ad",
   "metadata": {},
   "outputs": [
    {
     "name": "stdout",
     "output_type": "stream",
     "text": [
      "Enter n = 2\n",
      "Enter name = Apple\n",
      "Enter price = 300\n",
      "Enter qty = 3\n",
      "Enter name = Banana\n",
      "Enter price = 100\n",
      "Enter qty = 2\n",
      "Apple,300.0,3.0,900.0\n",
      "Banana,100.0,2.0,200.0\n",
      "\n",
      "1100.0\n"
     ]
    }
   ],
   "source": [
    "# On csv file\n",
    "bill = \"\"\n",
    "all_total = 0\n",
    "n = int(input(\"Enter n = \"))\n",
    "for i in range(n):\n",
    "    name = input(\"Enter name = \")\n",
    "    price = float(input(\"Enter price = \"))\n",
    "    qty = float(input(\"Enter qty = \"))\n",
    "    total = price * qty\n",
    "    bill = bill + f\"{name},{price},{qty},{total}\\n\"\n",
    "    all_total = all_total + total\n",
    "print(bill)\n",
    "print(all_total)\n",
    "\n",
    "file = open('bill.csv','w')\n",
    "file.write('Name,Price,Quantity,Total\\n')\n",
    "file.write(bill)\n",
    "file.close()"
   ]
  },
  {
   "cell_type": "code",
   "execution_count": 12,
   "id": "bb8ffc22",
   "metadata": {},
   "outputs": [
    {
     "data": {
      "text/plain": [
       "'C:\\\\Users\\\\Aayush\\\\Class_Python_3pm'"
      ]
     },
     "execution_count": 12,
     "metadata": {},
     "output_type": "execute_result"
    }
   ],
   "source": [
    "pwd"
   ]
  },
  {
   "cell_type": "code",
   "execution_count": 15,
   "id": "24b02e22",
   "metadata": {},
   "outputs": [
    {
     "name": "stdout",
     "output_type": "stream",
     "text": [
      "['Name,Price,Quantity,Total', 'Apple,300.0,3.0,900.0', 'Banana,100.0,2.0,200.0', '']\n"
     ]
    }
   ],
   "source": [
    "file = open('bill.csv','r')\n",
    "d = file.read()\n",
    "data = d.split('\\n')\n",
    "print(data)\n",
    "file.close()"
   ]
  },
  {
   "cell_type": "code",
   "execution_count": 18,
   "id": "710bb17c",
   "metadata": {},
   "outputs": [
    {
     "data": {
      "text/plain": [
       "[['Name', 'Price', 'Quantity', 'Total'],\n",
       " ['Apple', '300.0', '3.0', '900.0'],\n",
       " ['Banana', '100.0', '2.0', '200.0']]"
      ]
     },
     "execution_count": 18,
     "metadata": {},
     "output_type": "execute_result"
    }
   ],
   "source": [
    "new_data = []\n",
    "for i in data[:-1]:\n",
    "    new_data.append(i.split(','))\n",
    "    \n",
    "new_data"
   ]
  },
  {
   "cell_type": "code",
   "execution_count": null,
   "id": "df4fed5e",
   "metadata": {},
   "outputs": [],
   "source": []
  }
 ],
 "metadata": {
  "kernelspec": {
   "display_name": "Python 3 (ipykernel)",
   "language": "python",
   "name": "python3"
  },
  "language_info": {
   "codemirror_mode": {
    "name": "ipython",
    "version": 3
   },
   "file_extension": ".py",
   "mimetype": "text/x-python",
   "name": "python",
   "nbconvert_exporter": "python",
   "pygments_lexer": "ipython3",
   "version": "3.9.12"
  }
 },
 "nbformat": 4,
 "nbformat_minor": 5
}
