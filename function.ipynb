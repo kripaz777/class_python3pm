{
 "cells": [
  {
   "cell_type": "code",
   "execution_count": 1,
   "id": "05772201",
   "metadata": {},
   "outputs": [],
   "source": [
    "# # pre defined function\n",
    "# print() type() int() float() str() list() tuple() dict() set()"
   ]
  },
  {
   "cell_type": "code",
   "execution_count": 2,
   "id": "d3a1f69f",
   "metadata": {},
   "outputs": [],
   "source": [
    "# user defined function"
   ]
  },
  {
   "cell_type": "code",
   "execution_count": 3,
   "id": "c6f70374",
   "metadata": {},
   "outputs": [],
   "source": [
    "# def <fucntion_name>():\n",
    "#     <operations>\n",
    "    \n",
    "# function_name()"
   ]
  },
  {
   "cell_type": "code",
   "execution_count": 4,
   "id": "c29b596b",
   "metadata": {},
   "outputs": [
    {
     "name": "stdout",
     "output_type": "stream",
     "text": [
      "Hello World\n"
     ]
    }
   ],
   "source": [
    "def hello():\n",
    "    print(\"Hello World\")\n",
    "    \n",
    "hello()"
   ]
  },
  {
   "cell_type": "code",
   "execution_count": 6,
   "id": "c97cdb05",
   "metadata": {},
   "outputs": [
    {
     "name": "stdout",
     "output_type": "stream",
     "text": [
      "Enter l = 100\n",
      "Enter b = 23\n",
      "Enter h = 3\n",
      "6900\n"
     ]
    }
   ],
   "source": [
    "def cal():\n",
    "    l = int(input(\"Enter l = \"))   #local variable\n",
    "    b = int(input(\"Enter b = \"))   #local variable\n",
    "    h = int(input(\"Enter h = \"))   #local variable\n",
    "    v = l*b*h\n",
    "    print(v)\n",
    "    \n",
    "cal()"
   ]
  },
  {
   "cell_type": "code",
   "execution_count": 7,
   "id": "2915657f",
   "metadata": {},
   "outputs": [
    {
     "name": "stdout",
     "output_type": "stream",
     "text": [
      "Enter l = 100\n",
      "Enter b = 2\n",
      "Enter h = 3\n",
      "600\n"
     ]
    }
   ],
   "source": [
    "l = int(input(\"Enter l = \"))   #Global variable\n",
    "b = int(input(\"Enter b = \"))   #Global variable\n",
    "h = int(input(\"Enter h = \"))   #Global variable\n",
    "\n",
    "def cal():\n",
    "    \n",
    "    v = l*b*h\n",
    "    print(v)\n",
    "    \n",
    "cal()"
   ]
  },
  {
   "cell_type": "code",
   "execution_count": 8,
   "id": "cfc0a9bc",
   "metadata": {},
   "outputs": [],
   "source": [
    "# function without argument and no return type\n",
    "# function with argument and no return type\n",
    "# function without argument and  return type\n",
    "# function with argument and  return type"
   ]
  },
  {
   "cell_type": "code",
   "execution_count": null,
   "id": "1404fcad",
   "metadata": {},
   "outputs": [],
   "source": [
    "# function with argument and no return type\n",
    "def info(name,age,add):   # name,age,add -> parameter\n",
    "    print(f\"Hello World I am {name}. I am from {add}. I am {age}\")\n",
    "\n",
    "\n",
    "name = input(\"Enter name = \")\n",
    "age = int(input(\"Enter age = \"))\n",
    "add = input(\"Enter add = \")\n",
    "\n",
    "info(name,age,add)   # name,age,add -> argument"
   ]
  },
  {
   "cell_type": "code",
   "execution_count": null,
   "id": "59417d75",
   "metadata": {},
   "outputs": [],
   "source": [
    "# function with argument and no return type\n",
    "def info(x,y,z):   # name,age,add -> parameter\n",
    "    print(f\"Hello World I am {x}. I am from {z}. I am {y}\")\n",
    "\n",
    "\n",
    "name = input(\"Enter name = \")\n",
    "age = int(input(\"Enter age = \"))\n",
    "add = input(\"Enter add = \")\n",
    "\n",
    "info(name,age,add)   # name,age,add -> argument"
   ]
  },
  {
   "cell_type": "code",
   "execution_count": 9,
   "id": "3bd73022",
   "metadata": {},
   "outputs": [
    {
     "name": "stdout",
     "output_type": "stream",
     "text": [
      "C\n",
      "C++\n",
      "Java\n",
      "Python\n"
     ]
    }
   ],
   "source": [
    "def language(lan = \"Python\"):\n",
    "    print(lan)\n",
    "    \n",
    "language(\"C\")\n",
    "language(\"C++\")\n",
    "language(\"Java\")\n",
    "language()"
   ]
  },
  {
   "cell_type": "code",
   "execution_count": 10,
   "id": "2e0125cb",
   "metadata": {},
   "outputs": [],
   "source": [
    "# return type function"
   ]
  },
  {
   "cell_type": "code",
   "execution_count": 12,
   "id": "e1eef8ba",
   "metadata": {},
   "outputs": [
    {
     "name": "stdout",
     "output_type": "stream",
     "text": [
      "Hello World\n"
     ]
    }
   ],
   "source": [
    "def hello():\n",
    "    x = \"Hello World\"\n",
    "    return x\n",
    "\n",
    "print(hello())"
   ]
  },
  {
   "cell_type": "code",
   "execution_count": null,
   "id": "840ac653",
   "metadata": {},
   "outputs": [],
   "source": [
    "def area():\n",
    "    l = 20\n",
    "    b = 5\n",
    "    a = l*b\n",
    "    return a\n",
    "\n",
    "ar = area()\n",
    "print(ar)\n",
    "\n",
    "h = 2\n",
    "v = ar*h\n",
    "print(v)"
   ]
  },
  {
   "cell_type": "code",
   "execution_count": 15,
   "id": "2877673d",
   "metadata": {},
   "outputs": [
    {
     "name": "stdout",
     "output_type": "stream",
     "text": [
      "(50, 100)\n",
      "Area =  50\n",
      "Volume =  100\n"
     ]
    }
   ],
   "source": [
    "# function with argument and  return type\n",
    "def cal(l,b,h):\n",
    "    a = l*b\n",
    "    v = a*h\n",
    "    return a,v\n",
    "\n",
    "z = cal(10,5,2)\n",
    "print(z)\n",
    "area,volume = z\n",
    "print(\"Area = \",area)\n",
    "print(\"Volume = \",volume)"
   ]
  },
  {
   "cell_type": "code",
   "execution_count": null,
   "id": "c14c676e",
   "metadata": {},
   "outputs": [],
   "source": [
    "def add(a,b):\n",
    "    return a+b\n",
    "def sub(a,b):\n",
    "    return a-b\n",
    "def mul(a,b):\n",
    "    return a*b\n",
    "def div(a,b):\n",
    "    return a/b\n",
    "\n",
    "def cal(a,b,o):\n",
    "    if o == '+':\n",
    "        print(add(a,b))\n",
    "    elif o == '-':\n",
    "        print(sub(a,b))\n",
    "    elif o == '*':\n",
    "        print(mul(a,b))\n",
    "    elif o == '/':\n",
    "        print(div(a,b))\n",
    "    else:\n",
    "        print(\"Please enter valid operator\")\n",
    "        \n",
    "a = int(input(\"Enter a = \"))\n",
    "b = int(input(\"Enter b = \"))\n",
    "o = input(\"Enter + - * /  \")\n",
    "\n",
    "cal(a,b,o)"
   ]
  },
  {
   "cell_type": "code",
   "execution_count": 1,
   "id": "953655dd",
   "metadata": {},
   "outputs": [],
   "source": [
    "# recursive function"
   ]
  },
  {
   "cell_type": "code",
   "execution_count": 1,
   "id": "1e837a41",
   "metadata": {},
   "outputs": [],
   "source": [
    "def hello():\n",
    "    print(\"hello World\")\n",
    "    hello()\n",
    "    \n",
    "hello()"
   ]
  },
  {
   "cell_type": "code",
   "execution_count": 2,
   "id": "059a38bf",
   "metadata": {},
   "outputs": [
    {
     "name": "stdout",
     "output_type": "stream",
     "text": [
      "hello World\n",
      "Enter y for more print = y\n",
      "hello World\n",
      "Enter y for more print = y\n",
      "hello World\n",
      "Enter y for more print = y\n",
      "hello World\n",
      "Enter y for more print = sfdsdf\n"
     ]
    }
   ],
   "source": [
    "def hello():\n",
    "    print(\"hello World\")\n",
    "    x = input(\"Enter y for more print = \")\n",
    "    if x == 'y':\n",
    "        hello()\n",
    "    \n",
    "hello()"
   ]
  },
  {
   "cell_type": "code",
   "execution_count": 7,
   "id": "3f967d8d",
   "metadata": {},
   "outputs": [
    {
     "name": "stdout",
     "output_type": "stream",
     "text": [
      "Enter x = 234\n",
      "Enter y for more entry = y\n",
      "Enter x = 324\n",
      "Enter y for more entry = sad\n",
      "558\n"
     ]
    }
   ],
   "source": [
    "s = 0\n",
    "def cal():\n",
    "    global s\n",
    "    x = int(input(\"Enter x = \"))\n",
    "    s = s+x\n",
    "    z = input(\"Enter y for more entry = \")\n",
    "    if z == 'y':\n",
    "        cal()\n",
    "cal()\n",
    "print(s)\n"
   ]
  },
  {
   "cell_type": "code",
   "execution_count": 9,
   "id": "4910af99",
   "metadata": {},
   "outputs": [
    {
     "name": "stdout",
     "output_type": "stream",
     "text": [
      "3.141592653589793\n",
      "2.718281828459045\n"
     ]
    }
   ],
   "source": [
    "# math function\n",
    "import math as m\n",
    "print(m.pi)\n",
    "print(m.e)"
   ]
  },
  {
   "cell_type": "code",
   "execution_count": 11,
   "id": "691ac0db",
   "metadata": {},
   "outputs": [
    {
     "data": {
      "text/plain": [
       "1.0"
      ]
     },
     "execution_count": 11,
     "metadata": {},
     "output_type": "execute_result"
    }
   ],
   "source": [
    "m.sin(m.pi/2)\n"
   ]
  },
  {
   "cell_type": "code",
   "execution_count": 14,
   "id": "fec9bbd6",
   "metadata": {},
   "outputs": [
    {
     "name": "stdout",
     "output_type": "stream",
     "text": [
      "6.123233995736766e-17\n"
     ]
    }
   ],
   "source": [
    "print(m.cos(m.pi/2))"
   ]
  },
  {
   "cell_type": "code",
   "execution_count": 15,
   "id": "e0c90881",
   "metadata": {},
   "outputs": [
    {
     "name": "stdout",
     "output_type": "stream",
     "text": [
      "1.633123935319537e+16\n"
     ]
    }
   ],
   "source": [
    "print(m.tan(m.pi/2))"
   ]
  },
  {
   "cell_type": "code",
   "execution_count": 16,
   "id": "ba4b9e45",
   "metadata": {},
   "outputs": [],
   "source": [
    "# lambda function"
   ]
  },
  {
   "cell_type": "code",
   "execution_count": 17,
   "id": "c8a4b19b",
   "metadata": {},
   "outputs": [],
   "source": [
    "# lambda <arguments>:<operations>"
   ]
  },
  {
   "cell_type": "code",
   "execution_count": 18,
   "id": "310053b0",
   "metadata": {},
   "outputs": [
    {
     "name": "stdout",
     "output_type": "stream",
     "text": [
      "25\n"
     ]
    }
   ],
   "source": [
    "x = lambda a:a**2\n",
    "\n",
    "print(x(5))"
   ]
  },
  {
   "cell_type": "code",
   "execution_count": 19,
   "id": "db333bce",
   "metadata": {},
   "outputs": [
    {
     "name": "stdout",
     "output_type": "stream",
     "text": [
      "10\n"
     ]
    }
   ],
   "source": [
    "x = lambda l,b:l*b\n",
    "\n",
    "print(x(5,2))"
   ]
  },
  {
   "cell_type": "code",
   "execution_count": 20,
   "id": "8982e5be",
   "metadata": {},
   "outputs": [],
   "source": [
    "# filter() map()"
   ]
  },
  {
   "cell_type": "code",
   "execution_count": 24,
   "id": "76ca88d7",
   "metadata": {},
   "outputs": [
    {
     "data": {
      "text/plain": [
       "[2, 4, 6, 8, 10]"
      ]
     },
     "execution_count": 24,
     "metadata": {},
     "output_type": "execute_result"
    }
   ],
   "source": [
    "# filter()\n",
    "a = [1,2,3,4,5,6,7,8,9,10]\n",
    "b = list(filter(lambda x : x%2==0, a))\n",
    "b"
   ]
  },
  {
   "cell_type": "code",
   "execution_count": 26,
   "id": "67f10845",
   "metadata": {},
   "outputs": [
    {
     "data": {
      "text/plain": [
       "['Apple', 'Ant', 'Age']"
      ]
     },
     "execution_count": 26,
     "metadata": {},
     "output_type": "execute_result"
    }
   ],
   "source": [
    "# filter()\n",
    "a = [\"Apple\",\"Ant\",\"Ball\",\"Cat\",\"Age\"]\n",
    "b = list(filter(lambda x : x[0] == \"A\", a))\n",
    "b"
   ]
  },
  {
   "cell_type": "code",
   "execution_count": 27,
   "id": "3fcd6517",
   "metadata": {},
   "outputs": [
    {
     "data": {
      "text/plain": [
       "['apple', 'ant', 'ball', 'cat', 'age']"
      ]
     },
     "execution_count": 27,
     "metadata": {},
     "output_type": "execute_result"
    }
   ],
   "source": [
    "#map()\n",
    "a = [\"Apple\",\"Ant\",\"Ball\",\"Cat\",\"Age\"]\n",
    "b = list(map(lambda x:x.lower(), a))\n",
    "b"
   ]
  },
  {
   "cell_type": "code",
   "execution_count": 28,
   "id": "51ba2222",
   "metadata": {},
   "outputs": [
    {
     "data": {
      "text/plain": [
       "[1, 4, 9, 16, 25, 36, 49, 64, 81]"
      ]
     },
     "execution_count": 28,
     "metadata": {},
     "output_type": "execute_result"
    }
   ],
   "source": [
    "a = [1,2,3,4,5,6,7,8,9]\n",
    "b = list(map(lambda x:x**2, a))\n",
    "b"
   ]
  },
  {
   "cell_type": "code",
   "execution_count": 29,
   "id": "ee1fb6f6",
   "metadata": {},
   "outputs": [
    {
     "data": {
      "text/plain": [
       "[0, 1, 2, 3, 4, 5, 6, 7, 8, 9, 10, 11, 12, 13, 14, 15, 16, 17, 18, 19]"
      ]
     },
     "execution_count": 29,
     "metadata": {},
     "output_type": "execute_result"
    }
   ],
   "source": [
    "a = [i for i in range(20)]\n",
    "a"
   ]
  },
  {
   "cell_type": "code",
   "execution_count": 31,
   "id": "c71f82d7",
   "metadata": {},
   "outputs": [
    {
     "data": {
      "text/plain": [
       "[1,\n",
       " 4,\n",
       " 9,\n",
       " 16,\n",
       " 25,\n",
       " 36,\n",
       " 49,\n",
       " 64,\n",
       " 81,\n",
       " 100,\n",
       " 121,\n",
       " 144,\n",
       " 169,\n",
       " 196,\n",
       " 225,\n",
       " 256,\n",
       " 289,\n",
       " 324,\n",
       " 361,\n",
       " 400]"
      ]
     },
     "execution_count": 31,
     "metadata": {},
     "output_type": "execute_result"
    }
   ],
   "source": [
    "a = [i**2 for i in range(1,21)]\n",
    "a"
   ]
  },
  {
   "cell_type": "code",
   "execution_count": 33,
   "id": "5147684f",
   "metadata": {},
   "outputs": [
    {
     "name": "stdout",
     "output_type": "stream",
     "text": [
      "Enter value = 324\n",
      "Enter value = 456\n",
      "Enter value = 34\n",
      "Enter value = 675\n",
      "Enter value = 354\n"
     ]
    },
    {
     "data": {
      "text/plain": [
       "1843"
      ]
     },
     "execution_count": 33,
     "metadata": {},
     "output_type": "execute_result"
    }
   ],
   "source": [
    "a = [int(input(\"Enter value = \")) for i in range(5)]\n",
    "a"
   ]
  },
  {
   "cell_type": "code",
   "execution_count": 34,
   "id": "08c1dd9b",
   "metadata": {},
   "outputs": [
    {
     "name": "stdout",
     "output_type": "stream",
     "text": [
      "Enter name = ram\n",
      "Enter phone9808778765\n",
      "Enter name = Shyam\n",
      "Enter phone9878006765\n"
     ]
    },
    {
     "data": {
      "text/plain": [
       "{'ram': 9808778765, 'Shyam': 9878006765}"
      ]
     },
     "execution_count": 34,
     "metadata": {},
     "output_type": "execute_result"
    }
   ],
   "source": [
    "a = {input(\"Enter name = \"):int(input(\"Enter phone\")) for i in range(2)}\n",
    "a"
   ]
  },
  {
   "cell_type": "code",
   "execution_count": null,
   "id": "e1a627f2",
   "metadata": {},
   "outputs": [],
   "source": []
  }
 ],
 "metadata": {
  "kernelspec": {
   "display_name": "Python 3 (ipykernel)",
   "language": "python",
   "name": "python3"
  },
  "language_info": {
   "codemirror_mode": {
    "name": "ipython",
    "version": 3
   },
   "file_extension": ".py",
   "mimetype": "text/x-python",
   "name": "python",
   "nbconvert_exporter": "python",
   "pygments_lexer": "ipython3",
   "version": "3.9.12"
  }
 },
 "nbformat": 4,
 "nbformat_minor": 5
}
