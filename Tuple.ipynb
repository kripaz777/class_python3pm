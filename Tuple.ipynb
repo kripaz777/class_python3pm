{
 "cells": [
  {
   "cell_type": "code",
   "execution_count": 1,
   "id": "d0108d11",
   "metadata": {},
   "outputs": [],
   "source": [
    "# list\n",
    "# -Indexing\n",
    "# -Ordered\n",
    "# -Multiple and duplicate data\n",
    "# -Imutable"
   ]
  },
  {
   "cell_type": "code",
   "execution_count": 2,
   "id": "7bdb8839",
   "metadata": {},
   "outputs": [
    {
     "name": "stdout",
     "output_type": "stream",
     "text": [
      "<class 'tuple'>\n",
      "<class 'tuple'>\n"
     ]
    }
   ],
   "source": [
    "t = (1,2,3,4,5,6)\n",
    "k = (\"Apple\",\"Ball\",\"Cat\",\"Dog\")\n",
    "print(type(t))\n",
    "print(type(k))"
   ]
  },
  {
   "cell_type": "code",
   "execution_count": 4,
   "id": "29021019",
   "metadata": {},
   "outputs": [
    {
     "name": "stdout",
     "output_type": "stream",
     "text": [
      "Apple\n",
      "1\n"
     ]
    }
   ],
   "source": [
    "print(k[0])\n",
    "print(t[0])"
   ]
  },
  {
   "cell_type": "code",
   "execution_count": 5,
   "id": "88a1215d",
   "metadata": {},
   "outputs": [
    {
     "name": "stdout",
     "output_type": "stream",
     "text": [
      "(1, 2, 3, 4, 5, 6)\n"
     ]
    }
   ],
   "source": [
    "t = (1,2,3)\n",
    "j = (4,5,6)\n",
    "print(t+j)"
   ]
  },
  {
   "cell_type": "code",
   "execution_count": 6,
   "id": "8ec4525f",
   "metadata": {},
   "outputs": [
    {
     "name": "stdout",
     "output_type": "stream",
     "text": [
      "(1, 2, 3, 1, 2, 3)\n"
     ]
    }
   ],
   "source": [
    "t = (1,2,3)\n",
    "print(t*2)"
   ]
  },
  {
   "cell_type": "code",
   "execution_count": 7,
   "id": "cbce77d2",
   "metadata": {},
   "outputs": [],
   "source": [
    "# sum() min() max()"
   ]
  },
  {
   "cell_type": "code",
   "execution_count": 8,
   "id": "ea394db7",
   "metadata": {},
   "outputs": [],
   "source": [
    "# No append() insert() extend()\n",
    "# No del remove() pop()\n",
    "# No update\n",
    "# No sort() reverse()"
   ]
  },
  {
   "cell_type": "code",
   "execution_count": 12,
   "id": "c860c1f3",
   "metadata": {},
   "outputs": [
    {
     "data": {
      "text/plain": [
       "tuple"
      ]
     },
     "execution_count": 12,
     "metadata": {},
     "output_type": "execute_result"
    }
   ],
   "source": [
    "t = (\"1\",)\n",
    "type(t)"
   ]
  },
  {
   "cell_type": "code",
   "execution_count": 13,
   "id": "b9a82cef",
   "metadata": {},
   "outputs": [
    {
     "name": "stdout",
     "output_type": "stream",
     "text": [
      "(1, 2, 3, 4, 5)\n"
     ]
    }
   ],
   "source": [
    "a = 1,2,3,4,5\n",
    "print(a)"
   ]
  },
  {
   "cell_type": "code",
   "execution_count": 14,
   "id": "792b3ef3",
   "metadata": {},
   "outputs": [
    {
     "name": "stdout",
     "output_type": "stream",
     "text": [
      "Enter n = 3\n",
      "Enter x = 231\n",
      "Enter x = 432\n",
      "Enter x = 32\n",
      "(231, 432, 32)\n"
     ]
    }
   ],
   "source": [
    "t = ()\n",
    "#t = tuple()\n",
    "n = int(input(\"Enter n = \"))\n",
    "for i in range(n):\n",
    "    x = int(input(\"Enter x = \"))\n",
    "    t = t + (x,)\n",
    "    \n",
    "print(t)"
   ]
  },
  {
   "cell_type": "code",
   "execution_count": 15,
   "id": "db9a6471",
   "metadata": {},
   "outputs": [],
   "source": [
    "# WAP to create the following tuple inside tuple\n",
    "# data = (('Ram', 89, 'Kathmandu'), \n",
    "#         ('Shyam', 89, 'Bhaktapur'), \n",
    "#         ('Hari', 34, 'Lalitpur'))"
   ]
  },
  {
   "cell_type": "code",
   "execution_count": 17,
   "id": "9eb620ef",
   "metadata": {},
   "outputs": [
    {
     "data": {
      "text/plain": [
       "[1, 2, 3]"
      ]
     },
     "execution_count": 17,
     "metadata": {},
     "output_type": "execute_result"
    }
   ],
   "source": [
    "t = (1,2,3)\n",
    "l = list(t)\n",
    "l"
   ]
  },
  {
   "cell_type": "code",
   "execution_count": 21,
   "id": "47217222",
   "metadata": {},
   "outputs": [
    {
     "data": {
      "text/plain": [
       "('Ram', 30, 'Kathmandu')"
      ]
     },
     "execution_count": 21,
     "metadata": {},
     "output_type": "execute_result"
    }
   ],
   "source": [
    "t = ('Ram', 89, 'Kathmandu')\n",
    "l = list(t)\n",
    "l[1] = 30\n",
    "t = tuple(l)\n",
    "t"
   ]
  },
  {
   "cell_type": "code",
   "execution_count": null,
   "id": "855835d3",
   "metadata": {},
   "outputs": [],
   "source": []
  }
 ],
 "metadata": {
  "kernelspec": {
   "display_name": "Python 3 (ipykernel)",
   "language": "python",
   "name": "python3"
  },
  "language_info": {
   "codemirror_mode": {
    "name": "ipython",
    "version": 3
   },
   "file_extension": ".py",
   "mimetype": "text/x-python",
   "name": "python",
   "nbconvert_exporter": "python",
   "pygments_lexer": "ipython3",
   "version": "3.9.12"
  }
 },
 "nbformat": 4,
 "nbformat_minor": 5
}
