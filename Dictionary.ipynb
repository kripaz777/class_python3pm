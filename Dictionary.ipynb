{
 "cells": [
  {
   "cell_type": "code",
   "execution_count": 1,
   "id": "bea4f178",
   "metadata": {},
   "outputs": [],
   "source": [
    "# Dict\n",
    "# -Indexing\n",
    "# -Ordered\n",
    "# -Multiple and duplicate data\n",
    "# -Mutable"
   ]
  },
  {
   "cell_type": "code",
   "execution_count": 2,
   "id": "1b9738a2",
   "metadata": {},
   "outputs": [],
   "source": [
    "# d = {<key>:<value>, <key>:<value>}"
   ]
  },
  {
   "cell_type": "code",
   "execution_count": 3,
   "id": "7cee766c",
   "metadata": {},
   "outputs": [
    {
     "name": "stdout",
     "output_type": "stream",
     "text": [
      "{'a': 'apple', 'b': 'ball', 'c': 'cat'}\n",
      "<class 'dict'>\n"
     ]
    }
   ],
   "source": [
    "d = {'a':'apple', 'b':'ball', 'c':'cat'}\n",
    "print(d)\n",
    "print(type(d))"
   ]
  },
  {
   "cell_type": "code",
   "execution_count": 5,
   "id": "bc4d5a5b",
   "metadata": {},
   "outputs": [
    {
     "name": "stdout",
     "output_type": "stream",
     "text": [
      "apple\n",
      "ball\n"
     ]
    }
   ],
   "source": [
    "print(d['a'])\n",
    "print(d['b'])"
   ]
  },
  {
   "cell_type": "code",
   "execution_count": 8,
   "id": "79e34a5b",
   "metadata": {},
   "outputs": [
    {
     "data": {
      "text/plain": [
       "{'a': 'ant', 'b': 'ball', 'c': 'cat'}"
      ]
     },
     "execution_count": 8,
     "metadata": {},
     "output_type": "execute_result"
    }
   ],
   "source": [
    "d = {'a':'apple', 'b':'ball', 'c':'cat','a':'ant'}\n",
    "d"
   ]
  },
  {
   "cell_type": "code",
   "execution_count": 9,
   "id": "d0cf2a1a",
   "metadata": {},
   "outputs": [
    {
     "data": {
      "text/plain": [
       "{'a': 'Ant', 'b': 'ball', 'c': 'cat'}"
      ]
     },
     "execution_count": 9,
     "metadata": {},
     "output_type": "execute_result"
    }
   ],
   "source": [
    "# Update\n",
    "d = {'a': 'ant', 'b': 'ball', 'c': 'cat'}\n",
    "d['a'] = 'Ant'\n",
    "d"
   ]
  },
  {
   "cell_type": "code",
   "execution_count": 11,
   "id": "70901fc2",
   "metadata": {},
   "outputs": [
    {
     "data": {
      "text/plain": [
       "{'a': 'apple', 'b': 'ball', 'c': 'cat'}"
      ]
     },
     "execution_count": 11,
     "metadata": {},
     "output_type": "execute_result"
    }
   ],
   "source": [
    "# d = dict()\n",
    "d = {}\n",
    "d['a'] = 'apple'\n",
    "d['b'] = 'ball'\n",
    "d['c'] = 'cat'\n",
    "d"
   ]
  },
  {
   "cell_type": "code",
   "execution_count": 12,
   "id": "2afcdee7",
   "metadata": {},
   "outputs": [
    {
     "name": "stdout",
     "output_type": "stream",
     "text": [
      "Enter n = 2\n",
      "Enter name = Ram\n",
      "Enter phone = 9808778765\n",
      "Enter name = Shyam\n",
      "Enter phone = 9808667654\n",
      "{'9808778765': 'Ram', '9808667654': 'Shyam'}\n"
     ]
    }
   ],
   "source": [
    "d = {}\n",
    "n = int(input(\"Enter n = \"))\n",
    "for i in range(n):\n",
    "    name = input(\"Enter name = \")\n",
    "    phone = input(\"Enter phone = \")\n",
    "    d[phone] = name\n",
    "    \n",
    "print(d)"
   ]
  },
  {
   "cell_type": "code",
   "execution_count": 13,
   "id": "de8c1777",
   "metadata": {},
   "outputs": [
    {
     "name": "stdout",
     "output_type": "stream",
     "text": [
      "9808778765\n",
      "9808667654\n"
     ]
    }
   ],
   "source": [
    "d = {'9808778765': 'Ram', '9808667654': 'Shyam'}\n",
    "for i in d:\n",
    "    print(i)"
   ]
  },
  {
   "cell_type": "code",
   "execution_count": 14,
   "id": "0c712acd",
   "metadata": {},
   "outputs": [
    {
     "name": "stdout",
     "output_type": "stream",
     "text": [
      "Ram\n",
      "Shyam\n"
     ]
    }
   ],
   "source": [
    "d = {'9808778765': 'Ram', '9808667654': 'Shyam'}\n",
    "for i in d.values():\n",
    "    print(i)"
   ]
  },
  {
   "cell_type": "code",
   "execution_count": 15,
   "id": "5044566f",
   "metadata": {},
   "outputs": [
    {
     "name": "stdout",
     "output_type": "stream",
     "text": [
      "('9808778765', 'Ram')\n",
      "('9808667654', 'Shyam')\n"
     ]
    }
   ],
   "source": [
    "d = {'9808778765': 'Ram', '9808667654': 'Shyam'}\n",
    "for i in d.items():\n",
    "    print(i)"
   ]
  },
  {
   "cell_type": "code",
   "execution_count": 16,
   "id": "b7db2c50",
   "metadata": {},
   "outputs": [
    {
     "data": {
      "text/plain": [
       "{'9808778765': 'Ram', '9808667654': 'Shyam'}"
      ]
     },
     "execution_count": 16,
     "metadata": {},
     "output_type": "execute_result"
    }
   ],
   "source": [
    "t = (('9808778765', 'Ram'),('9808667654', 'Shyam'))\n",
    "d = dict(t)\n",
    "d"
   ]
  },
  {
   "cell_type": "code",
   "execution_count": 17,
   "id": "d7256dc7",
   "metadata": {},
   "outputs": [
    {
     "data": {
      "text/plain": [
       "{'9808667654': 'Shyam'}"
      ]
     },
     "execution_count": 17,
     "metadata": {},
     "output_type": "execute_result"
    }
   ],
   "source": [
    "# del pop()\n",
    "d = {'9808778765': 'Ram', '9808667654': 'Shyam'}\n",
    "del d['9808778765']\n",
    "d"
   ]
  },
  {
   "cell_type": "code",
   "execution_count": 19,
   "id": "357f8f94",
   "metadata": {},
   "outputs": [
    {
     "name": "stdout",
     "output_type": "stream",
     "text": [
      "{'9808778765': 'Ram', '9808667654': 'Shyam', 1: 1, 2: 4, 3: 9}\n"
     ]
    }
   ],
   "source": [
    "a = {'9808778765': 'Ram', '9808667654': 'Shyam'}\n",
    "b = {1:1, 2:4, 3:9}\n",
    "a.update(b)\n",
    "print(a)"
   ]
  },
  {
   "cell_type": "code",
   "execution_count": 20,
   "id": "965bd68c",
   "metadata": {},
   "outputs": [],
   "source": [
    "# list inside dict"
   ]
  },
  {
   "cell_type": "code",
   "execution_count": 21,
   "id": "b8345c0f",
   "metadata": {},
   "outputs": [
    {
     "data": {
      "text/plain": [
       "{'name': ['Ram', 'Shyam', 'Hari', 'Sita'],\n",
       " 'age': [34, 45, 65, 56],\n",
       " 'add': ['Kathmandu', 'Bhaktapur', 'Lalitpur', 'Jhapa']}"
      ]
     },
     "execution_count": 21,
     "metadata": {},
     "output_type": "execute_result"
    }
   ],
   "source": [
    "d = {'name':['Ram','Shyam','Hari','Sita'],\n",
    "    'age':[34,45,65,56],\n",
    "    'add':[\"Kathmandu\",\"Bhaktapur\",\"Lalitpur\",\"Jhapa\"]}\n",
    "d"
   ]
  },
  {
   "cell_type": "code",
   "execution_count": null,
   "id": "453b208b",
   "metadata": {},
   "outputs": [],
   "source": [
    "d = {'name':[], 'age':[], 'add':[]}\n",
    "n = int(input(\"Enter n = \"))\n",
    "for i in range(n):\n",
    "    name = input(\"Enter name = \")\n",
    "    age = input(\"Enter phone = \")\n",
    "    add = input(\"Enter add = \")\n",
    "    d['name'].append(name)\n",
    "    d['age'].append(age)\n",
    "    d['add'].append(add)\n",
    "    \n",
    "print(d)"
   ]
  },
  {
   "cell_type": "code",
   "execution_count": 22,
   "id": "df4d7589",
   "metadata": {},
   "outputs": [],
   "source": [
    "# #dict inside list\n",
    "# l = [{'name':'Ram','age':45,'add':'Kathmandu'},\n",
    "#     {'name':'Rama','age':25,'add':'Bhaktapur'},\n",
    "#     {'name':'Sita','age':22,'add':'Lalitpur'}]"
   ]
  },
  {
   "cell_type": "code",
   "execution_count": 23,
   "id": "b264f8fc",
   "metadata": {},
   "outputs": [
    {
     "name": "stdout",
     "output_type": "stream",
     "text": [
      "Enter n = 2\n",
      "Enter name = Ram\n",
      "Enter phone = 34\n",
      "Enter add = Kathmandu\n",
      "Enter name = Shyam\n",
      "Enter phone = 67\n",
      "Enter add = Bhaktapur\n"
     ]
    },
    {
     "data": {
      "text/plain": [
       "[{'name': 'Ram', 'age': '34', 'add': 'Kathmandu'},\n",
       " {'name': 'Shyam', 'age': '67', 'add': 'Bhaktapur'}]"
      ]
     },
     "execution_count": 23,
     "metadata": {},
     "output_type": "execute_result"
    }
   ],
   "source": [
    "l = []\n",
    "n = int(input(\"Enter n = \"))\n",
    "for i in range(n):\n",
    "    name = input(\"Enter name = \")\n",
    "    age = input(\"Enter phone = \")\n",
    "    add = input(\"Enter add = \")\n",
    "    d = {'name':name,'age':age,'add':add}\n",
    "    l.append(d)\n",
    "l"
   ]
  },
  {
   "cell_type": "code",
   "execution_count": 7,
   "id": "74492fd7",
   "metadata": {},
   "outputs": [
    {
     "data": {
      "text/plain": [
       "{'name': 'Ram', 'age': '34', 'add': 'Kathmandu'}"
      ]
     },
     "execution_count": 7,
     "metadata": {},
     "output_type": "execute_result"
    }
   ],
   "source": [
    "l = [{'name': 'Ram', 'age': '34', 'add': 'Kathmandu'},\n",
    "     {'name': 'Shyam', 'age': '67', 'add': 'Bhaktapur'}]\n",
    "l[0]"
   ]
  },
  {
   "cell_type": "code",
   "execution_count": 8,
   "id": "49547dac",
   "metadata": {},
   "outputs": [
    {
     "data": {
      "text/plain": [
       "'Ram'"
      ]
     },
     "execution_count": 8,
     "metadata": {},
     "output_type": "execute_result"
    }
   ],
   "source": [
    "l[0]['name']"
   ]
  },
  {
   "cell_type": "code",
   "execution_count": 10,
   "id": "5d9381c8",
   "metadata": {},
   "outputs": [
    {
     "data": {
      "text/plain": [
       "[{'name': 'Rama', 'age': '34', 'add': 'Kathmandu'},\n",
       " {'name': 'Shyam', 'age': '67', 'add': 'Bhaktapur'}]"
      ]
     },
     "execution_count": 10,
     "metadata": {},
     "output_type": "execute_result"
    }
   ],
   "source": [
    "l[0]['name'] = \"Rama\"\n",
    "l"
   ]
  },
  {
   "cell_type": "code",
   "execution_count": 24,
   "id": "4b553b54",
   "metadata": {},
   "outputs": [],
   "source": [
    "# dict inside dict"
   ]
  },
  {
   "cell_type": "code",
   "execution_count": 25,
   "id": "1fbd54f2",
   "metadata": {},
   "outputs": [],
   "source": [
    "# d = {1:{'name': 'Ram', 'age': '34', 'add': 'Kathmandu'},\n",
    "#      2:{'name': 'Shyam', 'age': '67', 'add': 'Bhaktapur'}}"
   ]
  },
  {
   "cell_type": "code",
   "execution_count": 1,
   "id": "9f879265",
   "metadata": {},
   "outputs": [
    {
     "name": "stdout",
     "output_type": "stream",
     "text": [
      "Enter n = 2\n",
      "Enter name = Ram\n",
      "Enter phone = 45\n",
      "Enter add = Kathmandu\n",
      "Enter name = Shyam\n",
      "Enter phone = 45\n",
      "Enter add = Lalitpur\n"
     ]
    },
    {
     "data": {
      "text/plain": [
       "{1: {'name': 'Ram', 'age': '45', 'add': 'Kathmandu'},\n",
       " 2: {'name': 'Shyam', 'age': '45', 'add': 'Lalitpur'}}"
      ]
     },
     "execution_count": 1,
     "metadata": {},
     "output_type": "execute_result"
    }
   ],
   "source": [
    "d = {}\n",
    "n = int(input(\"Enter n = \"))\n",
    "for i in range(1,n+1):\n",
    "    name = input(\"Enter name = \")\n",
    "    age = input(\"Enter phone = \")\n",
    "    add = input(\"Enter add = \")\n",
    "    dd = {'name':name,'age':age,'add':add}\n",
    "    d[i] = dd\n",
    "d"
   ]
  },
  {
   "cell_type": "code",
   "execution_count": 3,
   "id": "f8b272f0",
   "metadata": {},
   "outputs": [
    {
     "data": {
      "text/plain": [
       "{'name': 'Shyam', 'age': '45', 'add': 'Lalitpur'}"
      ]
     },
     "execution_count": 3,
     "metadata": {},
     "output_type": "execute_result"
    }
   ],
   "source": [
    "d[2]"
   ]
  },
  {
   "cell_type": "code",
   "execution_count": 4,
   "id": "1b4f6cd9",
   "metadata": {},
   "outputs": [
    {
     "data": {
      "text/plain": [
       "'Ram'"
      ]
     },
     "execution_count": 4,
     "metadata": {},
     "output_type": "execute_result"
    }
   ],
   "source": [
    "d[1]['name']"
   ]
  },
  {
   "cell_type": "code",
   "execution_count": 5,
   "id": "2ec50de8",
   "metadata": {},
   "outputs": [
    {
     "data": {
      "text/plain": [
       "{1: {'name': 'Rama', 'age': '45', 'add': 'Kathmandu'},\n",
       " 2: {'name': 'Shyam', 'age': '45', 'add': 'Lalitpur'}}"
      ]
     },
     "execution_count": 5,
     "metadata": {},
     "output_type": "execute_result"
    }
   ],
   "source": [
    "d[1]['name'] = \"Rama\"\n",
    "d"
   ]
  },
  {
   "cell_type": "code",
   "execution_count": null,
   "id": "51880126",
   "metadata": {},
   "outputs": [],
   "source": [
    "# d = {1:{'name': 'Ram', 'age': '34', 'add': {'per:Kathmandu','temp':'Kathmandu'}},\n",
    "#      2:{'name': 'Shyam', 'age': '67', 'add': {'tep':Bhaktapur','per':'Jhapa'}}}"
   ]
  }
 ],
 "metadata": {
  "kernelspec": {
   "display_name": "Python 3 (ipykernel)",
   "language": "python",
   "name": "python3"
  },
  "language_info": {
   "codemirror_mode": {
    "name": "ipython",
    "version": 3
   },
   "file_extension": ".py",
   "mimetype": "text/x-python",
   "name": "python",
   "nbconvert_exporter": "python",
   "pygments_lexer": "ipython3",
   "version": "3.9.12"
  }
 },
 "nbformat": 4,
 "nbformat_minor": 5
}
